{
 "cells": [
  {
   "cell_type": "code",
   "execution_count": 1,
   "metadata": {},
   "outputs": [],
   "source": [
    "import requests\n",
    "import os\n",
    "\n",
    "# Set key and id as enviornment variables\n",
    "# os.environ['NYC_GEOCLIENT_ID']\n",
    "# os.environ['NYC_GEOCLIENT_KEY']\n",
    "\n",
    "def get_lat_lon_from_bin(bin_number):\n",
    "    \n",
    "    base_url = 'https://api.cityofnewyork.us/geoclient/v1/bin.json'\n",
    "    api_id = os.environ['NYC_GEOCLIENT_ID']\n",
    "    api_key = os.environ['NYC_GEOCLIENT_KEY']\n",
    "    \n",
    "    PARAMS = {'bin':bin_number, 'app_id':api_id, 'app_key':api_key}\n",
    "    output = (requests.get(url = base_url, params = PARAMS)).json()\n",
    "    \n",
    "    return (output['bin']['latitudeInternalLabel'], output['bin']['longitudeInternalLabel'])\n",
    "\n",
    "def get_lat_lon_from_bin_array(bin_numbers):\n",
    "    \n",
    "    base_url = 'https://api.cityofnewyork.us/geoclient/v1/bin.json'\n",
    "    api_id = os.environ['NYC_GEOCLIENT_ID']\n",
    "    api_key = os.environ['NYC_GEOCLIENT_KEY']\n",
    "    result = []\n",
    "    \n",
    "    for bin_number in bin_numbers:\n",
    "        PARAMS = {'bin':bin_number, 'app_id':api_id, 'app_key':api_key}\n",
    "        output = (requests.get(url = base_url, params = PARAMS)).json()\n",
    "        result.append( (output['bin']['latitudeInternalLabel'], output['bin']['longitudeInternalLabel']) )\n",
    "\n",
    "    return result"
   ]
  }
 ],
 "metadata": {
  "kernelspec": {
   "display_name": "Python 3",
   "language": "python",
   "name": "python3"
  },
  "language_info": {
   "codemirror_mode": {
    "name": "ipython",
    "version": 3
   },
   "file_extension": ".py",
   "mimetype": "text/x-python",
   "name": "python",
   "nbconvert_exporter": "python",
   "pygments_lexer": "ipython3",
   "version": "3.6.6"
  }
 },
 "nbformat": 4,
 "nbformat_minor": 2
}
